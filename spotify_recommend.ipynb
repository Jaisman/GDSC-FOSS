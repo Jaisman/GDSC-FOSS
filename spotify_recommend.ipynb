{
  "cells": [
    {
      "cell_type": "markdown",
      "metadata": {
        "id": "view-in-github",
        "colab_type": "text"
      },
      "source": [
        "<a href=\"https://colab.research.google.com/github/Jaisman/GDSC-FOSS/blob/main/spotify_recommend.ipynb\" target=\"_parent\"><img src=\"https://colab.research.google.com/assets/colab-badge.svg\" alt=\"Open In Colab\"/></a>"
      ]
    },
    {
      "cell_type": "code",
      "execution_count": null,
      "metadata": {
        "id": "aMqkiUWunmFO"
      },
      "outputs": [],
      "source": [
        "import numpy as np\n",
        "import pandas as pd"
      ]
    },
    {
      "cell_type": "code",
      "execution_count": null,
      "metadata": {
        "id": "NhTOlF7insWy"
      },
      "outputs": [],
      "source": [
        "data = pd.read_csv('spotify_millsongdata.csv', engine='python', on_bad_lines='skip')"
      ]
    },
    {
      "cell_type": "code",
      "execution_count": null,
      "metadata": {
        "colab": {
          "base_uri": "https://localhost:8080/",
          "height": 206
        },
        "id": "mKDFx1Vkn_tZ",
        "outputId": "0109866c-41ad-42b8-aee0-b09768d10800"
      },
      "outputs": [
        {
          "output_type": "execute_result",
          "data": {
            "text/plain": [
              "  artist                   song                                        link  \\\n",
              "0   ABBA  Ahe's My Kind Of Girl  /a/abba/ahes+my+kind+of+girl_20598417.html   \n",
              "1   ABBA       Andante, Andante       /a/abba/andante+andante_20002708.html   \n",
              "2   ABBA         As Good As New        /a/abba/as+good+as+new_20003033.html   \n",
              "3   ABBA                   Bang                  /a/abba/bang_20598415.html   \n",
              "4   ABBA       Bang-A-Boomerang      /a/abba/bang+a+boomerang_20002668.html   \n",
              "\n",
              "                                                text  \n",
              "0  Look at her face, it's a wonderful face  \\r\\nA...  \n",
              "1  Take it easy with me, please  \\r\\nTouch me gen...  \n",
              "2  I'll never know why I had to go  \\r\\nWhy I had...  \n",
              "3  Making somebody happy is a question of give an...  \n",
              "4  Making somebody happy is a question of give an...  "
            ],
            "text/html": [
              "\n",
              "  <div id=\"df-3829526f-de3c-4863-844e-0b3d925462c8\" class=\"colab-df-container\">\n",
              "    <div>\n",
              "<style scoped>\n",
              "    .dataframe tbody tr th:only-of-type {\n",
              "        vertical-align: middle;\n",
              "    }\n",
              "\n",
              "    .dataframe tbody tr th {\n",
              "        vertical-align: top;\n",
              "    }\n",
              "\n",
              "    .dataframe thead th {\n",
              "        text-align: right;\n",
              "    }\n",
              "</style>\n",
              "<table border=\"1\" class=\"dataframe\">\n",
              "  <thead>\n",
              "    <tr style=\"text-align: right;\">\n",
              "      <th></th>\n",
              "      <th>artist</th>\n",
              "      <th>song</th>\n",
              "      <th>link</th>\n",
              "      <th>text</th>\n",
              "    </tr>\n",
              "  </thead>\n",
              "  <tbody>\n",
              "    <tr>\n",
              "      <th>0</th>\n",
              "      <td>ABBA</td>\n",
              "      <td>Ahe's My Kind Of Girl</td>\n",
              "      <td>/a/abba/ahes+my+kind+of+girl_20598417.html</td>\n",
              "      <td>Look at her face, it's a wonderful face  \\r\\nA...</td>\n",
              "    </tr>\n",
              "    <tr>\n",
              "      <th>1</th>\n",
              "      <td>ABBA</td>\n",
              "      <td>Andante, Andante</td>\n",
              "      <td>/a/abba/andante+andante_20002708.html</td>\n",
              "      <td>Take it easy with me, please  \\r\\nTouch me gen...</td>\n",
              "    </tr>\n",
              "    <tr>\n",
              "      <th>2</th>\n",
              "      <td>ABBA</td>\n",
              "      <td>As Good As New</td>\n",
              "      <td>/a/abba/as+good+as+new_20003033.html</td>\n",
              "      <td>I'll never know why I had to go  \\r\\nWhy I had...</td>\n",
              "    </tr>\n",
              "    <tr>\n",
              "      <th>3</th>\n",
              "      <td>ABBA</td>\n",
              "      <td>Bang</td>\n",
              "      <td>/a/abba/bang_20598415.html</td>\n",
              "      <td>Making somebody happy is a question of give an...</td>\n",
              "    </tr>\n",
              "    <tr>\n",
              "      <th>4</th>\n",
              "      <td>ABBA</td>\n",
              "      <td>Bang-A-Boomerang</td>\n",
              "      <td>/a/abba/bang+a+boomerang_20002668.html</td>\n",
              "      <td>Making somebody happy is a question of give an...</td>\n",
              "    </tr>\n",
              "  </tbody>\n",
              "</table>\n",
              "</div>\n",
              "    <div class=\"colab-df-buttons\">\n",
              "\n",
              "  <div class=\"colab-df-container\">\n",
              "    <button class=\"colab-df-convert\" onclick=\"convertToInteractive('df-3829526f-de3c-4863-844e-0b3d925462c8')\"\n",
              "            title=\"Convert this dataframe to an interactive table.\"\n",
              "            style=\"display:none;\">\n",
              "\n",
              "  <svg xmlns=\"http://www.w3.org/2000/svg\" height=\"24px\" viewBox=\"0 -960 960 960\">\n",
              "    <path d=\"M120-120v-720h720v720H120Zm60-500h600v-160H180v160Zm220 220h160v-160H400v160Zm0 220h160v-160H400v160ZM180-400h160v-160H180v160Zm440 0h160v-160H620v160ZM180-180h160v-160H180v160Zm440 0h160v-160H620v160Z\"/>\n",
              "  </svg>\n",
              "    </button>\n",
              "\n",
              "  <style>\n",
              "    .colab-df-container {\n",
              "      display:flex;\n",
              "      gap: 12px;\n",
              "    }\n",
              "\n",
              "    .colab-df-convert {\n",
              "      background-color: #E8F0FE;\n",
              "      border: none;\n",
              "      border-radius: 50%;\n",
              "      cursor: pointer;\n",
              "      display: none;\n",
              "      fill: #1967D2;\n",
              "      height: 32px;\n",
              "      padding: 0 0 0 0;\n",
              "      width: 32px;\n",
              "    }\n",
              "\n",
              "    .colab-df-convert:hover {\n",
              "      background-color: #E2EBFA;\n",
              "      box-shadow: 0px 1px 2px rgba(60, 64, 67, 0.3), 0px 1px 3px 1px rgba(60, 64, 67, 0.15);\n",
              "      fill: #174EA6;\n",
              "    }\n",
              "\n",
              "    .colab-df-buttons div {\n",
              "      margin-bottom: 4px;\n",
              "    }\n",
              "\n",
              "    [theme=dark] .colab-df-convert {\n",
              "      background-color: #3B4455;\n",
              "      fill: #D2E3FC;\n",
              "    }\n",
              "\n",
              "    [theme=dark] .colab-df-convert:hover {\n",
              "      background-color: #434B5C;\n",
              "      box-shadow: 0px 1px 3px 1px rgba(0, 0, 0, 0.15);\n",
              "      filter: drop-shadow(0px 1px 2px rgba(0, 0, 0, 0.3));\n",
              "      fill: #FFFFFF;\n",
              "    }\n",
              "  </style>\n",
              "\n",
              "    <script>\n",
              "      const buttonEl =\n",
              "        document.querySelector('#df-3829526f-de3c-4863-844e-0b3d925462c8 button.colab-df-convert');\n",
              "      buttonEl.style.display =\n",
              "        google.colab.kernel.accessAllowed ? 'block' : 'none';\n",
              "\n",
              "      async function convertToInteractive(key) {\n",
              "        const element = document.querySelector('#df-3829526f-de3c-4863-844e-0b3d925462c8');\n",
              "        const dataTable =\n",
              "          await google.colab.kernel.invokeFunction('convertToInteractive',\n",
              "                                                    [key], {});\n",
              "        if (!dataTable) return;\n",
              "\n",
              "        const docLinkHtml = 'Like what you see? Visit the ' +\n",
              "          '<a target=\"_blank\" href=https://colab.research.google.com/notebooks/data_table.ipynb>data table notebook</a>'\n",
              "          + ' to learn more about interactive tables.';\n",
              "        element.innerHTML = '';\n",
              "        dataTable['output_type'] = 'display_data';\n",
              "        await google.colab.output.renderOutput(dataTable, element);\n",
              "        const docLink = document.createElement('div');\n",
              "        docLink.innerHTML = docLinkHtml;\n",
              "        element.appendChild(docLink);\n",
              "      }\n",
              "    </script>\n",
              "  </div>\n",
              "\n",
              "\n",
              "<div id=\"df-2c7ca448-af67-4c09-b061-cbf4caf01b88\">\n",
              "  <button class=\"colab-df-quickchart\" onclick=\"quickchart('df-2c7ca448-af67-4c09-b061-cbf4caf01b88')\"\n",
              "            title=\"Suggest charts\"\n",
              "            style=\"display:none;\">\n",
              "\n",
              "<svg xmlns=\"http://www.w3.org/2000/svg\" height=\"24px\"viewBox=\"0 0 24 24\"\n",
              "     width=\"24px\">\n",
              "    <g>\n",
              "        <path d=\"M19 3H5c-1.1 0-2 .9-2 2v14c0 1.1.9 2 2 2h14c1.1 0 2-.9 2-2V5c0-1.1-.9-2-2-2zM9 17H7v-7h2v7zm4 0h-2V7h2v10zm4 0h-2v-4h2v4z\"/>\n",
              "    </g>\n",
              "</svg>\n",
              "  </button>\n",
              "\n",
              "<style>\n",
              "  .colab-df-quickchart {\n",
              "      --bg-color: #E8F0FE;\n",
              "      --fill-color: #1967D2;\n",
              "      --hover-bg-color: #E2EBFA;\n",
              "      --hover-fill-color: #174EA6;\n",
              "      --disabled-fill-color: #AAA;\n",
              "      --disabled-bg-color: #DDD;\n",
              "  }\n",
              "\n",
              "  [theme=dark] .colab-df-quickchart {\n",
              "      --bg-color: #3B4455;\n",
              "      --fill-color: #D2E3FC;\n",
              "      --hover-bg-color: #434B5C;\n",
              "      --hover-fill-color: #FFFFFF;\n",
              "      --disabled-bg-color: #3B4455;\n",
              "      --disabled-fill-color: #666;\n",
              "  }\n",
              "\n",
              "  .colab-df-quickchart {\n",
              "    background-color: var(--bg-color);\n",
              "    border: none;\n",
              "    border-radius: 50%;\n",
              "    cursor: pointer;\n",
              "    display: none;\n",
              "    fill: var(--fill-color);\n",
              "    height: 32px;\n",
              "    padding: 0;\n",
              "    width: 32px;\n",
              "  }\n",
              "\n",
              "  .colab-df-quickchart:hover {\n",
              "    background-color: var(--hover-bg-color);\n",
              "    box-shadow: 0 1px 2px rgba(60, 64, 67, 0.3), 0 1px 3px 1px rgba(60, 64, 67, 0.15);\n",
              "    fill: var(--button-hover-fill-color);\n",
              "  }\n",
              "\n",
              "  .colab-df-quickchart-complete:disabled,\n",
              "  .colab-df-quickchart-complete:disabled:hover {\n",
              "    background-color: var(--disabled-bg-color);\n",
              "    fill: var(--disabled-fill-color);\n",
              "    box-shadow: none;\n",
              "  }\n",
              "\n",
              "  .colab-df-spinner {\n",
              "    border: 2px solid var(--fill-color);\n",
              "    border-color: transparent;\n",
              "    border-bottom-color: var(--fill-color);\n",
              "    animation:\n",
              "      spin 1s steps(1) infinite;\n",
              "  }\n",
              "\n",
              "  @keyframes spin {\n",
              "    0% {\n",
              "      border-color: transparent;\n",
              "      border-bottom-color: var(--fill-color);\n",
              "      border-left-color: var(--fill-color);\n",
              "    }\n",
              "    20% {\n",
              "      border-color: transparent;\n",
              "      border-left-color: var(--fill-color);\n",
              "      border-top-color: var(--fill-color);\n",
              "    }\n",
              "    30% {\n",
              "      border-color: transparent;\n",
              "      border-left-color: var(--fill-color);\n",
              "      border-top-color: var(--fill-color);\n",
              "      border-right-color: var(--fill-color);\n",
              "    }\n",
              "    40% {\n",
              "      border-color: transparent;\n",
              "      border-right-color: var(--fill-color);\n",
              "      border-top-color: var(--fill-color);\n",
              "    }\n",
              "    60% {\n",
              "      border-color: transparent;\n",
              "      border-right-color: var(--fill-color);\n",
              "    }\n",
              "    80% {\n",
              "      border-color: transparent;\n",
              "      border-right-color: var(--fill-color);\n",
              "      border-bottom-color: var(--fill-color);\n",
              "    }\n",
              "    90% {\n",
              "      border-color: transparent;\n",
              "      border-bottom-color: var(--fill-color);\n",
              "    }\n",
              "  }\n",
              "</style>\n",
              "\n",
              "  <script>\n",
              "    async function quickchart(key) {\n",
              "      const quickchartButtonEl =\n",
              "        document.querySelector('#' + key + ' button');\n",
              "      quickchartButtonEl.disabled = true;  // To prevent multiple clicks.\n",
              "      quickchartButtonEl.classList.add('colab-df-spinner');\n",
              "      try {\n",
              "        const charts = await google.colab.kernel.invokeFunction(\n",
              "            'suggestCharts', [key], {});\n",
              "      } catch (error) {\n",
              "        console.error('Error during call to suggestCharts:', error);\n",
              "      }\n",
              "      quickchartButtonEl.classList.remove('colab-df-spinner');\n",
              "      quickchartButtonEl.classList.add('colab-df-quickchart-complete');\n",
              "    }\n",
              "    (() => {\n",
              "      let quickchartButtonEl =\n",
              "        document.querySelector('#df-2c7ca448-af67-4c09-b061-cbf4caf01b88 button');\n",
              "      quickchartButtonEl.style.display =\n",
              "        google.colab.kernel.accessAllowed ? 'block' : 'none';\n",
              "    })();\n",
              "  </script>\n",
              "</div>\n",
              "\n",
              "    </div>\n",
              "  </div>\n"
            ],
            "application/vnd.google.colaboratory.intrinsic+json": {
              "type": "dataframe",
              "variable_name": "data",
              "summary": "{\n  \"name\": \"data\",\n  \"rows\": 3320,\n  \"fields\": [\n    {\n      \"column\": \"artist\",\n      \"properties\": {\n        \"dtype\": \"category\",\n        \"num_unique_values\": 75,\n        \"samples\": [\n          \"Aerosmith\",\n          \"Children\",\n          \"Alice Cooper\"\n        ],\n        \"semantic_type\": \"\",\n        \"description\": \"\"\n      }\n    },\n    {\n      \"column\": \"song\",\n      \"properties\": {\n        \"dtype\": \"string\",\n        \"num_unique_values\": 3186,\n        \"samples\": [\n          \"Closer\",\n          \"On Top Of The World\",\n          \"Drowning Man\"\n        ],\n        \"semantic_type\": \"\",\n        \"description\": \"\"\n      }\n    },\n    {\n      \"column\": \"link\",\n      \"properties\": {\n        \"dtype\": \"string\",\n        \"num_unique_values\": 3320,\n        \"samples\": [\n          \"/b/bee+gees/i+can+bring+love_20015890.html\",\n          \"/c/celine+dion/i+got+nothin+left_20658703.html\",\n          \"/c/chicago/make+me+smile_20029843.html\"\n        ],\n        \"semantic_type\": \"\",\n        \"description\": \"\"\n      }\n    },\n    {\n      \"column\": \"text\",\n      \"properties\": {\n        \"dtype\": \"string\",\n        \"num_unique_values\": 3318,\n        \"samples\": [\n          \"I can make the sun shine out of the heavens  \\r\\nSweet love, love you forever  \\r\\nJust wait until the sun's on your pillow  \\r\\nI can bring love 'cause that's all I've got  \\r\\nI can bring love 'cause that's all I've got  \\r\\n  \\r\\nI can change the whole world if you are near me  \\r\\nNo tears if you can hear me  \\r\\nJust wait until the sun's on your pillow  \\r\\nI can bring love 'cause that's all I've got  \\r\\nI can bring love 'cause that's all I've got, yeah  \\r\\n  \\r\\nAh  \\r\\nJust wait until the sun's on your pillow  \\r\\nI can bring love 'cause that's all I've got  \\r\\nI can bring love 'cause that's all I've got  \\r\\nI can bring love 'cause that's all I've got\\r\\n\\r\\n\",\n          \"I'd like to run away from you  \\r\\nBut if I were to leave you I would die  \\r\\nI'd like to break the chains you put  \\r\\nAround me  \\r\\nAnd yet I'll never try  \\r\\nNo matter what you do you drive me  \\r\\nCrazy  \\r\\nI'd rather be alone  \\r\\nBut then I know my life would be so  \\r\\nEmpty  \\r\\nAs soon as you were gone  \\r\\nImpossible to live with you  \\r\\nBut I could never live without you  \\r\\nFor whatever you do  \\r\\nFor whatever you do  \\r\\n  \\r\\nI never, never, never  \\r\\nWant to be in love with anyone but you  \\r\\nYou make me sad  \\r\\nYou make me strong  \\r\\nYou make me mad  \\r\\nYou make me long for you  \\r\\nYou make me long for you  \\r\\n  \\r\\nYou make me live  \\r\\nYou make me die  \\r\\nYou make me laugh  \\r\\nYou make me cry for you  \\r\\nYou make me cry for you  \\r\\nI hate you  \\r\\nThen I love you  \\r\\nThen I love you  \\r\\nThen I hate you  \\r\\nThen I love you more  \\r\\nFor whatever you do  \\r\\nI never, never, never  \\r\\nWant to be in love with anyone but you  \\r\\nYou treat me wrong  \\r\\nYou treat me right  \\r\\nYou let me be  \\r\\nYou make me fight with you  \\r\\nI could never live without you  \\r\\n  \\r\\nYou make me high  \\r\\nYou bring me down  \\r\\nYou set me free  \\r\\nYou hold me bound to you  \\r\\nI hate you  \\r\\nThen I love you  \\r\\nThen I love you  \\r\\nThen I hate you  \\r\\nThen I love you more  \\r\\nI love you more  \\r\\nFor whatever you do  \\r\\nFor whatever you do  \\r\\n  \\r\\nI never, never, never  \\r\\nWant to be in love with anyone but you  \\r\\nI never, never, never  \\r\\nI never, never, never  \\r\\nI never, never, never  \\r\\nWant to be in love with anyone but you  \\r\\nBut you\\r\\n\\r\\n\",\n          \"On the road  \\r\\nBut I won't be gone for long  \\r\\nBabe, I'm leavin' you tomorrow  \\r\\nOn my way  \\r\\nAnd you know you make me strong  \\r\\nI'll be thinkin' about you all night long  \\r\\nMama, take just a little bit  \\r\\nMama, take just a little bit  \\r\\nMama, take just a little bit from my heart  \\r\\nMama, shake just a little bit  \\r\\nMama, brake just a little bit  \\r\\nMama, take just a little bit from my heart  \\r\\nAll alone  \\r\\nAnd I'm feelin' down today  \\r\\nWon't let nothin' come between us  \\r\\nSay the words  \\r\\nAnd the words are meant to say  \\r\\nI'll be thinkin' about you everyday  \\r\\nMama, take just a little bit  \\r\\nMama, take just a little bit  \\r\\nMama, take just a little bit from my heart  \\r\\nMama, shake just a little bit  \\r\\nMama, brake just a little bit  \\r\\nMama, take just a little bit from my heart  \\r\\nFrom my heart  \\r\\nI believe that we belong beyond a doubt  \\r\\nIf we have a change of heart  \\r\\nWe can always change our mind  \\r\\nAnd I know we'll work it out  \\r\\nI can see that it's the only way to go  \\r\\nIt's the only chance I get  \\r\\nIt's the only way you'll know  \\r\\nThat I love to love you  \\r\\nMighty love  \\r\\nGettin' hard to find today  \\r\\nI believe in you forever  \\r\\nSay the words  \\r\\nAnd the words are meant to say  \\r\\nI'll be thinkin' about you everyday  \\r\\nMama, take just a little bit  \\r\\nMama, take just a little bit  \\r\\nMama, take just a little bit from my heart  \\r\\nMama, shake just a little bit  \\r\\nMama, brake just a little bit  \\r\\nMama, take just a little bit from my heart  \\r\\nMama, take just a little bit  \\r\\nMama, take just a little bit  \\r\\nMama, take just a little bit from my heart  \\r\\nMama, shake just a little bit  \\r\\nMama, brake just a little bit  \\r\\nMama, take just a little bit from my heart  \\r\\nMama, take just a little bit  \\r\\nMama, take just a little bit  \\r\\nMama, take just a little bit from my heart  \\r\\n\\r\\n\"\n        ],\n        \"semantic_type\": \"\",\n        \"description\": \"\"\n      }\n    }\n  ]\n}"
            }
          },
          "metadata": {},
          "execution_count": 3
        }
      ],
      "source": [
        "data.head()"
      ]
    },
    {
      "cell_type": "code",
      "execution_count": null,
      "metadata": {
        "colab": {
          "base_uri": "https://localhost:8080/",
          "height": 209
        },
        "id": "obNbqZOVpBcA",
        "outputId": "a7b5ab7b-3c9c-4820-9e37-19c78523dea2"
      },
      "outputs": [
        {
          "output_type": "execute_result",
          "data": {
            "text/plain": [
              "artist    0\n",
              "song      0\n",
              "link      0\n",
              "text      0\n",
              "dtype: int64"
            ],
            "text/html": [
              "<div>\n",
              "<style scoped>\n",
              "    .dataframe tbody tr th:only-of-type {\n",
              "        vertical-align: middle;\n",
              "    }\n",
              "\n",
              "    .dataframe tbody tr th {\n",
              "        vertical-align: top;\n",
              "    }\n",
              "\n",
              "    .dataframe thead th {\n",
              "        text-align: right;\n",
              "    }\n",
              "</style>\n",
              "<table border=\"1\" class=\"dataframe\">\n",
              "  <thead>\n",
              "    <tr style=\"text-align: right;\">\n",
              "      <th></th>\n",
              "      <th>0</th>\n",
              "    </tr>\n",
              "  </thead>\n",
              "  <tbody>\n",
              "    <tr>\n",
              "      <th>artist</th>\n",
              "      <td>0</td>\n",
              "    </tr>\n",
              "    <tr>\n",
              "      <th>song</th>\n",
              "      <td>0</td>\n",
              "    </tr>\n",
              "    <tr>\n",
              "      <th>link</th>\n",
              "      <td>0</td>\n",
              "    </tr>\n",
              "    <tr>\n",
              "      <th>text</th>\n",
              "      <td>0</td>\n",
              "    </tr>\n",
              "  </tbody>\n",
              "</table>\n",
              "</div><br><label><b>dtype:</b> int64</label>"
            ]
          },
          "metadata": {},
          "execution_count": 4
        }
      ],
      "source": [
        "data.isnull().sum()"
      ]
    },
    {
      "cell_type": "code",
      "execution_count": null,
      "metadata": {
        "id": "gA2QzGczpLie"
      },
      "outputs": [],
      "source": [
        "data.drop('link', axis=1, inplace=True)"
      ]
    },
    {
      "cell_type": "code",
      "execution_count": null,
      "metadata": {
        "colab": {
          "base_uri": "https://localhost:8080/",
          "height": 206
        },
        "id": "fUo_R5E8pjhi",
        "outputId": "09e4b86f-3326-4322-aed0-f943c8b2115f",
        "collapsed": true
      },
      "outputs": [
        {
          "output_type": "execute_result",
          "data": {
            "text/plain": [
              "  artist                   song  \\\n",
              "0   ABBA  Ahe's My Kind Of Girl   \n",
              "1   ABBA       Andante, Andante   \n",
              "2   ABBA         As Good As New   \n",
              "3   ABBA                   Bang   \n",
              "4   ABBA       Bang-A-Boomerang   \n",
              "\n",
              "                                                text  \n",
              "0  Look at her face, it's a wonderful face  \\r\\nA...  \n",
              "1  Take it easy with me, please  \\r\\nTouch me gen...  \n",
              "2  I'll never know why I had to go  \\r\\nWhy I had...  \n",
              "3  Making somebody happy is a question of give an...  \n",
              "4  Making somebody happy is a question of give an...  "
            ],
            "text/html": [
              "\n",
              "  <div id=\"df-ade1e80f-ccf3-4d8f-ac29-d2c185da8891\" class=\"colab-df-container\">\n",
              "    <div>\n",
              "<style scoped>\n",
              "    .dataframe tbody tr th:only-of-type {\n",
              "        vertical-align: middle;\n",
              "    }\n",
              "\n",
              "    .dataframe tbody tr th {\n",
              "        vertical-align: top;\n",
              "    }\n",
              "\n",
              "    .dataframe thead th {\n",
              "        text-align: right;\n",
              "    }\n",
              "</style>\n",
              "<table border=\"1\" class=\"dataframe\">\n",
              "  <thead>\n",
              "    <tr style=\"text-align: right;\">\n",
              "      <th></th>\n",
              "      <th>artist</th>\n",
              "      <th>song</th>\n",
              "      <th>text</th>\n",
              "    </tr>\n",
              "  </thead>\n",
              "  <tbody>\n",
              "    <tr>\n",
              "      <th>0</th>\n",
              "      <td>ABBA</td>\n",
              "      <td>Ahe's My Kind Of Girl</td>\n",
              "      <td>Look at her face, it's a wonderful face  \\r\\nA...</td>\n",
              "    </tr>\n",
              "    <tr>\n",
              "      <th>1</th>\n",
              "      <td>ABBA</td>\n",
              "      <td>Andante, Andante</td>\n",
              "      <td>Take it easy with me, please  \\r\\nTouch me gen...</td>\n",
              "    </tr>\n",
              "    <tr>\n",
              "      <th>2</th>\n",
              "      <td>ABBA</td>\n",
              "      <td>As Good As New</td>\n",
              "      <td>I'll never know why I had to go  \\r\\nWhy I had...</td>\n",
              "    </tr>\n",
              "    <tr>\n",
              "      <th>3</th>\n",
              "      <td>ABBA</td>\n",
              "      <td>Bang</td>\n",
              "      <td>Making somebody happy is a question of give an...</td>\n",
              "    </tr>\n",
              "    <tr>\n",
              "      <th>4</th>\n",
              "      <td>ABBA</td>\n",
              "      <td>Bang-A-Boomerang</td>\n",
              "      <td>Making somebody happy is a question of give an...</td>\n",
              "    </tr>\n",
              "  </tbody>\n",
              "</table>\n",
              "</div>\n",
              "    <div class=\"colab-df-buttons\">\n",
              "\n",
              "  <div class=\"colab-df-container\">\n",
              "    <button class=\"colab-df-convert\" onclick=\"convertToInteractive('df-ade1e80f-ccf3-4d8f-ac29-d2c185da8891')\"\n",
              "            title=\"Convert this dataframe to an interactive table.\"\n",
              "            style=\"display:none;\">\n",
              "\n",
              "  <svg xmlns=\"http://www.w3.org/2000/svg\" height=\"24px\" viewBox=\"0 -960 960 960\">\n",
              "    <path d=\"M120-120v-720h720v720H120Zm60-500h600v-160H180v160Zm220 220h160v-160H400v160Zm0 220h160v-160H400v160ZM180-400h160v-160H180v160Zm440 0h160v-160H620v160ZM180-180h160v-160H180v160Zm440 0h160v-160H620v160Z\"/>\n",
              "  </svg>\n",
              "    </button>\n",
              "\n",
              "  <style>\n",
              "    .colab-df-container {\n",
              "      display:flex;\n",
              "      gap: 12px;\n",
              "    }\n",
              "\n",
              "    .colab-df-convert {\n",
              "      background-color: #E8F0FE;\n",
              "      border: none;\n",
              "      border-radius: 50%;\n",
              "      cursor: pointer;\n",
              "      display: none;\n",
              "      fill: #1967D2;\n",
              "      height: 32px;\n",
              "      padding: 0 0 0 0;\n",
              "      width: 32px;\n",
              "    }\n",
              "\n",
              "    .colab-df-convert:hover {\n",
              "      background-color: #E2EBFA;\n",
              "      box-shadow: 0px 1px 2px rgba(60, 64, 67, 0.3), 0px 1px 3px 1px rgba(60, 64, 67, 0.15);\n",
              "      fill: #174EA6;\n",
              "    }\n",
              "\n",
              "    .colab-df-buttons div {\n",
              "      margin-bottom: 4px;\n",
              "    }\n",
              "\n",
              "    [theme=dark] .colab-df-convert {\n",
              "      background-color: #3B4455;\n",
              "      fill: #D2E3FC;\n",
              "    }\n",
              "\n",
              "    [theme=dark] .colab-df-convert:hover {\n",
              "      background-color: #434B5C;\n",
              "      box-shadow: 0px 1px 3px 1px rgba(0, 0, 0, 0.15);\n",
              "      filter: drop-shadow(0px 1px 2px rgba(0, 0, 0, 0.3));\n",
              "      fill: #FFFFFF;\n",
              "    }\n",
              "  </style>\n",
              "\n",
              "    <script>\n",
              "      const buttonEl =\n",
              "        document.querySelector('#df-ade1e80f-ccf3-4d8f-ac29-d2c185da8891 button.colab-df-convert');\n",
              "      buttonEl.style.display =\n",
              "        google.colab.kernel.accessAllowed ? 'block' : 'none';\n",
              "\n",
              "      async function convertToInteractive(key) {\n",
              "        const element = document.querySelector('#df-ade1e80f-ccf3-4d8f-ac29-d2c185da8891');\n",
              "        const dataTable =\n",
              "          await google.colab.kernel.invokeFunction('convertToInteractive',\n",
              "                                                    [key], {});\n",
              "        if (!dataTable) return;\n",
              "\n",
              "        const docLinkHtml = 'Like what you see? Visit the ' +\n",
              "          '<a target=\"_blank\" href=https://colab.research.google.com/notebooks/data_table.ipynb>data table notebook</a>'\n",
              "          + ' to learn more about interactive tables.';\n",
              "        element.innerHTML = '';\n",
              "        dataTable['output_type'] = 'display_data';\n",
              "        await google.colab.output.renderOutput(dataTable, element);\n",
              "        const docLink = document.createElement('div');\n",
              "        docLink.innerHTML = docLinkHtml;\n",
              "        element.appendChild(docLink);\n",
              "      }\n",
              "    </script>\n",
              "  </div>\n",
              "\n",
              "\n",
              "<div id=\"df-20b75946-27c8-4c37-806b-dc925e6fb767\">\n",
              "  <button class=\"colab-df-quickchart\" onclick=\"quickchart('df-20b75946-27c8-4c37-806b-dc925e6fb767')\"\n",
              "            title=\"Suggest charts\"\n",
              "            style=\"display:none;\">\n",
              "\n",
              "<svg xmlns=\"http://www.w3.org/2000/svg\" height=\"24px\"viewBox=\"0 0 24 24\"\n",
              "     width=\"24px\">\n",
              "    <g>\n",
              "        <path d=\"M19 3H5c-1.1 0-2 .9-2 2v14c0 1.1.9 2 2 2h14c1.1 0 2-.9 2-2V5c0-1.1-.9-2-2-2zM9 17H7v-7h2v7zm4 0h-2V7h2v10zm4 0h-2v-4h2v4z\"/>\n",
              "    </g>\n",
              "</svg>\n",
              "  </button>\n",
              "\n",
              "<style>\n",
              "  .colab-df-quickchart {\n",
              "      --bg-color: #E8F0FE;\n",
              "      --fill-color: #1967D2;\n",
              "      --hover-bg-color: #E2EBFA;\n",
              "      --hover-fill-color: #174EA6;\n",
              "      --disabled-fill-color: #AAA;\n",
              "      --disabled-bg-color: #DDD;\n",
              "  }\n",
              "\n",
              "  [theme=dark] .colab-df-quickchart {\n",
              "      --bg-color: #3B4455;\n",
              "      --fill-color: #D2E3FC;\n",
              "      --hover-bg-color: #434B5C;\n",
              "      --hover-fill-color: #FFFFFF;\n",
              "      --disabled-bg-color: #3B4455;\n",
              "      --disabled-fill-color: #666;\n",
              "  }\n",
              "\n",
              "  .colab-df-quickchart {\n",
              "    background-color: var(--bg-color);\n",
              "    border: none;\n",
              "    border-radius: 50%;\n",
              "    cursor: pointer;\n",
              "    display: none;\n",
              "    fill: var(--fill-color);\n",
              "    height: 32px;\n",
              "    padding: 0;\n",
              "    width: 32px;\n",
              "  }\n",
              "\n",
              "  .colab-df-quickchart:hover {\n",
              "    background-color: var(--hover-bg-color);\n",
              "    box-shadow: 0 1px 2px rgba(60, 64, 67, 0.3), 0 1px 3px 1px rgba(60, 64, 67, 0.15);\n",
              "    fill: var(--button-hover-fill-color);\n",
              "  }\n",
              "\n",
              "  .colab-df-quickchart-complete:disabled,\n",
              "  .colab-df-quickchart-complete:disabled:hover {\n",
              "    background-color: var(--disabled-bg-color);\n",
              "    fill: var(--disabled-fill-color);\n",
              "    box-shadow: none;\n",
              "  }\n",
              "\n",
              "  .colab-df-spinner {\n",
              "    border: 2px solid var(--fill-color);\n",
              "    border-color: transparent;\n",
              "    border-bottom-color: var(--fill-color);\n",
              "    animation:\n",
              "      spin 1s steps(1) infinite;\n",
              "  }\n",
              "\n",
              "  @keyframes spin {\n",
              "    0% {\n",
              "      border-color: transparent;\n",
              "      border-bottom-color: var(--fill-color);\n",
              "      border-left-color: var(--fill-color);\n",
              "    }\n",
              "    20% {\n",
              "      border-color: transparent;\n",
              "      border-left-color: var(--fill-color);\n",
              "      border-top-color: var(--fill-color);\n",
              "    }\n",
              "    30% {\n",
              "      border-color: transparent;\n",
              "      border-left-color: var(--fill-color);\n",
              "      border-top-color: var(--fill-color);\n",
              "      border-right-color: var(--fill-color);\n",
              "    }\n",
              "    40% {\n",
              "      border-color: transparent;\n",
              "      border-right-color: var(--fill-color);\n",
              "      border-top-color: var(--fill-color);\n",
              "    }\n",
              "    60% {\n",
              "      border-color: transparent;\n",
              "      border-right-color: var(--fill-color);\n",
              "    }\n",
              "    80% {\n",
              "      border-color: transparent;\n",
              "      border-right-color: var(--fill-color);\n",
              "      border-bottom-color: var(--fill-color);\n",
              "    }\n",
              "    90% {\n",
              "      border-color: transparent;\n",
              "      border-bottom-color: var(--fill-color);\n",
              "    }\n",
              "  }\n",
              "</style>\n",
              "\n",
              "  <script>\n",
              "    async function quickchart(key) {\n",
              "      const quickchartButtonEl =\n",
              "        document.querySelector('#' + key + ' button');\n",
              "      quickchartButtonEl.disabled = true;  // To prevent multiple clicks.\n",
              "      quickchartButtonEl.classList.add('colab-df-spinner');\n",
              "      try {\n",
              "        const charts = await google.colab.kernel.invokeFunction(\n",
              "            'suggestCharts', [key], {});\n",
              "      } catch (error) {\n",
              "        console.error('Error during call to suggestCharts:', error);\n",
              "      }\n",
              "      quickchartButtonEl.classList.remove('colab-df-spinner');\n",
              "      quickchartButtonEl.classList.add('colab-df-quickchart-complete');\n",
              "    }\n",
              "    (() => {\n",
              "      let quickchartButtonEl =\n",
              "        document.querySelector('#df-20b75946-27c8-4c37-806b-dc925e6fb767 button');\n",
              "      quickchartButtonEl.style.display =\n",
              "        google.colab.kernel.accessAllowed ? 'block' : 'none';\n",
              "    })();\n",
              "  </script>\n",
              "</div>\n",
              "\n",
              "    </div>\n",
              "  </div>\n"
            ],
            "application/vnd.google.colaboratory.intrinsic+json": {
              "type": "dataframe",
              "variable_name": "data",
              "summary": "{\n  \"name\": \"data\",\n  \"rows\": 3320,\n  \"fields\": [\n    {\n      \"column\": \"artist\",\n      \"properties\": {\n        \"dtype\": \"category\",\n        \"num_unique_values\": 75,\n        \"samples\": [\n          \"Aerosmith\",\n          \"Children\",\n          \"Alice Cooper\"\n        ],\n        \"semantic_type\": \"\",\n        \"description\": \"\"\n      }\n    },\n    {\n      \"column\": \"song\",\n      \"properties\": {\n        \"dtype\": \"string\",\n        \"num_unique_values\": 3186,\n        \"samples\": [\n          \"Closer\",\n          \"On Top Of The World\",\n          \"Drowning Man\"\n        ],\n        \"semantic_type\": \"\",\n        \"description\": \"\"\n      }\n    },\n    {\n      \"column\": \"text\",\n      \"properties\": {\n        \"dtype\": \"string\",\n        \"num_unique_values\": 3318,\n        \"samples\": [\n          \"I can make the sun shine out of the heavens  \\r\\nSweet love, love you forever  \\r\\nJust wait until the sun's on your pillow  \\r\\nI can bring love 'cause that's all I've got  \\r\\nI can bring love 'cause that's all I've got  \\r\\n  \\r\\nI can change the whole world if you are near me  \\r\\nNo tears if you can hear me  \\r\\nJust wait until the sun's on your pillow  \\r\\nI can bring love 'cause that's all I've got  \\r\\nI can bring love 'cause that's all I've got, yeah  \\r\\n  \\r\\nAh  \\r\\nJust wait until the sun's on your pillow  \\r\\nI can bring love 'cause that's all I've got  \\r\\nI can bring love 'cause that's all I've got  \\r\\nI can bring love 'cause that's all I've got\\r\\n\\r\\n\",\n          \"I'd like to run away from you  \\r\\nBut if I were to leave you I would die  \\r\\nI'd like to break the chains you put  \\r\\nAround me  \\r\\nAnd yet I'll never try  \\r\\nNo matter what you do you drive me  \\r\\nCrazy  \\r\\nI'd rather be alone  \\r\\nBut then I know my life would be so  \\r\\nEmpty  \\r\\nAs soon as you were gone  \\r\\nImpossible to live with you  \\r\\nBut I could never live without you  \\r\\nFor whatever you do  \\r\\nFor whatever you do  \\r\\n  \\r\\nI never, never, never  \\r\\nWant to be in love with anyone but you  \\r\\nYou make me sad  \\r\\nYou make me strong  \\r\\nYou make me mad  \\r\\nYou make me long for you  \\r\\nYou make me long for you  \\r\\n  \\r\\nYou make me live  \\r\\nYou make me die  \\r\\nYou make me laugh  \\r\\nYou make me cry for you  \\r\\nYou make me cry for you  \\r\\nI hate you  \\r\\nThen I love you  \\r\\nThen I love you  \\r\\nThen I hate you  \\r\\nThen I love you more  \\r\\nFor whatever you do  \\r\\nI never, never, never  \\r\\nWant to be in love with anyone but you  \\r\\nYou treat me wrong  \\r\\nYou treat me right  \\r\\nYou let me be  \\r\\nYou make me fight with you  \\r\\nI could never live without you  \\r\\n  \\r\\nYou make me high  \\r\\nYou bring me down  \\r\\nYou set me free  \\r\\nYou hold me bound to you  \\r\\nI hate you  \\r\\nThen I love you  \\r\\nThen I love you  \\r\\nThen I hate you  \\r\\nThen I love you more  \\r\\nI love you more  \\r\\nFor whatever you do  \\r\\nFor whatever you do  \\r\\n  \\r\\nI never, never, never  \\r\\nWant to be in love with anyone but you  \\r\\nI never, never, never  \\r\\nI never, never, never  \\r\\nI never, never, never  \\r\\nWant to be in love with anyone but you  \\r\\nBut you\\r\\n\\r\\n\",\n          \"On the road  \\r\\nBut I won't be gone for long  \\r\\nBabe, I'm leavin' you tomorrow  \\r\\nOn my way  \\r\\nAnd you know you make me strong  \\r\\nI'll be thinkin' about you all night long  \\r\\nMama, take just a little bit  \\r\\nMama, take just a little bit  \\r\\nMama, take just a little bit from my heart  \\r\\nMama, shake just a little bit  \\r\\nMama, brake just a little bit  \\r\\nMama, take just a little bit from my heart  \\r\\nAll alone  \\r\\nAnd I'm feelin' down today  \\r\\nWon't let nothin' come between us  \\r\\nSay the words  \\r\\nAnd the words are meant to say  \\r\\nI'll be thinkin' about you everyday  \\r\\nMama, take just a little bit  \\r\\nMama, take just a little bit  \\r\\nMama, take just a little bit from my heart  \\r\\nMama, shake just a little bit  \\r\\nMama, brake just a little bit  \\r\\nMama, take just a little bit from my heart  \\r\\nFrom my heart  \\r\\nI believe that we belong beyond a doubt  \\r\\nIf we have a change of heart  \\r\\nWe can always change our mind  \\r\\nAnd I know we'll work it out  \\r\\nI can see that it's the only way to go  \\r\\nIt's the only chance I get  \\r\\nIt's the only way you'll know  \\r\\nThat I love to love you  \\r\\nMighty love  \\r\\nGettin' hard to find today  \\r\\nI believe in you forever  \\r\\nSay the words  \\r\\nAnd the words are meant to say  \\r\\nI'll be thinkin' about you everyday  \\r\\nMama, take just a little bit  \\r\\nMama, take just a little bit  \\r\\nMama, take just a little bit from my heart  \\r\\nMama, shake just a little bit  \\r\\nMama, brake just a little bit  \\r\\nMama, take just a little bit from my heart  \\r\\nMama, take just a little bit  \\r\\nMama, take just a little bit  \\r\\nMama, take just a little bit from my heart  \\r\\nMama, shake just a little bit  \\r\\nMama, brake just a little bit  \\r\\nMama, take just a little bit from my heart  \\r\\nMama, take just a little bit  \\r\\nMama, take just a little bit  \\r\\nMama, take just a little bit from my heart  \\r\\n\\r\\n\"\n        ],\n        \"semantic_type\": \"\",\n        \"description\": \"\"\n      }\n    }\n  ]\n}"
            }
          },
          "metadata": {},
          "execution_count": 7
        }
      ],
      "source": [
        "data.head()"
      ]
    },
    {
      "cell_type": "code",
      "execution_count": null,
      "metadata": {
        "id": "gCNxo6p2pnBq"
      },
      "outputs": [],
      "source": [
        "data['text'] = data['text'].str.lower().replace(r'^a-zA-Z0-9','').replace(r'\\n', ' ', regex=True)"
      ]
    },
    {
      "cell_type": "code",
      "execution_count": null,
      "metadata": {
        "id": "SfMdfG3KqJms"
      },
      "outputs": [],
      "source": [
        "import nltk"
      ]
    },
    {
      "cell_type": "code",
      "execution_count": null,
      "metadata": {
        "colab": {
          "base_uri": "https://localhost:8080/"
        },
        "id": "wFdoZ0jZwSfs",
        "outputId": "ee12a144-dbb4-4080-81cf-6de27c3da117"
      },
      "outputs": [
        {
          "output_type": "stream",
          "name": "stderr",
          "text": [
            "[nltk_data] Downloading package punkt to /root/nltk_data...\n",
            "[nltk_data]   Package punkt is already up-to-date!\n"
          ]
        },
        {
          "output_type": "execute_result",
          "data": {
            "text/plain": [
              "True"
            ]
          },
          "metadata": {},
          "execution_count": 10
        }
      ],
      "source": [
        "nltk.download('punkt')"
      ]
    },
    {
      "cell_type": "code",
      "execution_count": null,
      "metadata": {
        "id": "VO2xtUeYwYx3"
      },
      "outputs": [],
      "source": [
        "from nltk.stem.porter import PorterStemmer\n",
        "stemmer = PorterStemmer()"
      ]
    },
    {
      "cell_type": "code",
      "execution_count": null,
      "metadata": {
        "id": "2hkuYednv5p3"
      },
      "outputs": [],
      "source": [
        "def token(text):\n",
        "    text = nltk.word_tokenize(text)\n",
        "    a = [stemmer.stem(w) for w in text]\n",
        "    return \" \".join(a)"
      ]
    },
    {
      "cell_type": "code",
      "execution_count": null,
      "metadata": {
        "colab": {
          "base_uri": "https://localhost:8080/",
          "height": 458
        },
        "id": "sqWcSa51wGY-",
        "outputId": "9fbfe480-a2a9-4b6f-d7cf-6934e6d9c50f"
      },
      "outputs": [
        {
          "output_type": "execute_result",
          "data": {
            "text/plain": [
              "0       look at her face , it 's a wonder face and it ...\n",
              "1       take it easi with me , pleas touch me gentli l...\n",
              "2       i 'll never know whi i had to go whi i had to ...\n",
              "3       make somebodi happi is a question of give and ...\n",
              "4       make somebodi happi is a question of give and ...\n",
              "                              ...                        \n",
              "3315    lord i do n't know which way i am go which way...\n",
              "3316    so it 's over , thi time i know it 's gone sal...\n",
              "3317    the bird they sang , at break of day start aga...\n",
              "3318    oh morn come burst , the cloud amen lift off t...\n",
              "3319    wa a long and dark decemb from the rooftop i r...\n",
              "Name: text, Length: 3320, dtype: object"
            ],
            "text/html": [
              "<div>\n",
              "<style scoped>\n",
              "    .dataframe tbody tr th:only-of-type {\n",
              "        vertical-align: middle;\n",
              "    }\n",
              "\n",
              "    .dataframe tbody tr th {\n",
              "        vertical-align: top;\n",
              "    }\n",
              "\n",
              "    .dataframe thead th {\n",
              "        text-align: right;\n",
              "    }\n",
              "</style>\n",
              "<table border=\"1\" class=\"dataframe\">\n",
              "  <thead>\n",
              "    <tr style=\"text-align: right;\">\n",
              "      <th></th>\n",
              "      <th>text</th>\n",
              "    </tr>\n",
              "  </thead>\n",
              "  <tbody>\n",
              "    <tr>\n",
              "      <th>0</th>\n",
              "      <td>look at her face , it 's a wonder face and it ...</td>\n",
              "    </tr>\n",
              "    <tr>\n",
              "      <th>1</th>\n",
              "      <td>take it easi with me , pleas touch me gentli l...</td>\n",
              "    </tr>\n",
              "    <tr>\n",
              "      <th>2</th>\n",
              "      <td>i 'll never know whi i had to go whi i had to ...</td>\n",
              "    </tr>\n",
              "    <tr>\n",
              "      <th>3</th>\n",
              "      <td>make somebodi happi is a question of give and ...</td>\n",
              "    </tr>\n",
              "    <tr>\n",
              "      <th>4</th>\n",
              "      <td>make somebodi happi is a question of give and ...</td>\n",
              "    </tr>\n",
              "    <tr>\n",
              "      <th>...</th>\n",
              "      <td>...</td>\n",
              "    </tr>\n",
              "    <tr>\n",
              "      <th>3315</th>\n",
              "      <td>lord i do n't know which way i am go which way...</td>\n",
              "    </tr>\n",
              "    <tr>\n",
              "      <th>3316</th>\n",
              "      <td>so it 's over , thi time i know it 's gone sal...</td>\n",
              "    </tr>\n",
              "    <tr>\n",
              "      <th>3317</th>\n",
              "      <td>the bird they sang , at break of day start aga...</td>\n",
              "    </tr>\n",
              "    <tr>\n",
              "      <th>3318</th>\n",
              "      <td>oh morn come burst , the cloud amen lift off t...</td>\n",
              "    </tr>\n",
              "    <tr>\n",
              "      <th>3319</th>\n",
              "      <td>wa a long and dark decemb from the rooftop i r...</td>\n",
              "    </tr>\n",
              "  </tbody>\n",
              "</table>\n",
              "<p>3320 rows × 1 columns</p>\n",
              "</div><br><label><b>dtype:</b> object</label>"
            ]
          },
          "metadata": {},
          "execution_count": 15
        }
      ],
      "source": [
        "data['text'].apply(lambda x: token(x))"
      ]
    },
    {
      "cell_type": "code",
      "execution_count": null,
      "metadata": {
        "id": "ACsd8Nd5wMf_"
      },
      "outputs": [],
      "source": [
        "from sklearn.feature_extraction.text import TfidfVectorizer\n",
        "from sklearn.metrics.pairwise import cosine_similarity"
      ]
    },
    {
      "cell_type": "code",
      "execution_count": null,
      "metadata": {
        "id": "UZ1D9QNfwqKM"
      },
      "outputs": [],
      "source": [
        "tfid = TfidfVectorizer(analyzer='word', stop_words='english')"
      ]
    },
    {
      "cell_type": "code",
      "execution_count": null,
      "metadata": {
        "id": "WAg1VetoxC_e"
      },
      "outputs": [],
      "source": [
        "tfidf_matrix = tfid.fit_transform(data['text'])"
      ]
    },
    {
      "cell_type": "code",
      "execution_count": null,
      "metadata": {
        "id": "qWCZtnAaxOSb"
      },
      "outputs": [],
      "source": [
        "similar = cosine_similarity(tfidf_matrix)"
      ]
    },
    {
      "cell_type": "code",
      "execution_count": null,
      "metadata": {
        "id": "SI7zcvKVxYiY"
      },
      "outputs": [],
      "source": [
        "def recommender(song_name):\n",
        "  print(f\"Searching for: {song_name}\")\n",
        "  song_name = song_name.lower()\n",
        "  matches = data[data['song'].str.lower() == song_name]\n",
        "\n",
        "  if not matches.empty:\n",
        "    idx = matches.index[0]\n",
        "    distance = sorted(list(enumerate(similar[idx])), reverse=True, key=lambda x:x[1])\n",
        "    song = []\n",
        "    for s_id in distance[1:5]:\n",
        "      song.append(data.iloc[s_id[0]].song)\n",
        "    return song\n",
        "  else:\n",
        "    return \"Song not found\""
      ]
    },
    {
      "cell_type": "code",
      "source": [
        "import pickle"
      ],
      "metadata": {
        "id": "JFRS70Bo0XAP"
      },
      "execution_count": null,
      "outputs": []
    },
    {
      "cell_type": "code",
      "source": [
        "recommender(\"Bang\")"
      ],
      "metadata": {
        "colab": {
          "base_uri": "https://localhost:8080/"
        },
        "id": "NatQeAFX2IyU",
        "outputId": "d2906f38-0ec3-41cd-95fe-b6a81be0f3cb"
      },
      "execution_count": null,
      "outputs": [
        {
          "output_type": "stream",
          "name": "stdout",
          "text": [
            "Searching for: Bang\n",
            "Found 2 matches\n"
          ]
        },
        {
          "output_type": "execute_result",
          "data": {
            "text/plain": [
              "['The Prime Of Your Love',\n",
              " 'Bang-A-Boomerang',\n",
              " 'Boom Boom Boom',\n",
              " \"Boom, Boom, Ain't It Great To Be Crazy?\"]"
            ]
          },
          "metadata": {},
          "execution_count": 31
        }
      ]
    },
    {
      "cell_type": "code",
      "source": [
        "pickle.dump(similar, open('similar.pkl', 'wb'))"
      ],
      "metadata": {
        "id": "6LqRiex60YFL"
      },
      "execution_count": null,
      "outputs": []
    },
    {
      "cell_type": "code",
      "source": [
        "pickle.dump(data, open('data.pkl', 'wb'))"
      ],
      "metadata": {
        "id": "QvjH2s7d0nUe"
      },
      "execution_count": null,
      "outputs": []
    }
  ],
  "metadata": {
    "colab": {
      "provenance": [],
      "authorship_tag": "ABX9TyNTBwSCkqWw9fyUI9XzaWD6",
      "include_colab_link": true
    },
    "kernelspec": {
      "display_name": "Python 3",
      "name": "python3"
    },
    "language_info": {
      "name": "python"
    }
  },
  "nbformat": 4,
  "nbformat_minor": 0
}